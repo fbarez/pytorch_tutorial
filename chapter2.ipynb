{
 "cells": [
  {
   "cell_type": "markdown",
   "metadata": {},
   "source": [
    "### Image Classification "
   ]
  },
  {
   "cell_type": "code",
   "execution_count": 1,
   "metadata": {},
   "outputs": [],
   "source": [
    "class Dataset(object):\n",
    "    def __getitem__(self, index):\n",
    "        raise NotImplemnetError\n",
    "    def __len__(self):\n",
    "        raise NotImplementError\n",
    "    "
   ]
  },
  {
   "cell_type": "code",
   "execution_count": 3,
   "metadata": {},
   "outputs": [
    {
     "name": "stdout",
     "output_type": "stream",
     "text": [
      "Requirement already satisfied: torchvision in /Users/fb46_a/opt/anaconda3/envs/phd/lib/python3.8/site-packages (0.8.1)\n",
      "Requirement already satisfied: numpy in /Users/fb46_a/opt/anaconda3/envs/phd/lib/python3.8/site-packages (from torchvision) (1.18.2)\n",
      "Requirement already satisfied: torch==1.7.0 in /Users/fb46_a/opt/anaconda3/envs/phd/lib/python3.8/site-packages (from torchvision) (1.7.0)\n",
      "Requirement already satisfied: pillow>=4.1.1 in /Users/fb46_a/opt/anaconda3/envs/phd/lib/python3.8/site-packages (from torchvision) (7.1.2)\n",
      "Requirement already satisfied: future in /Users/fb46_a/opt/anaconda3/envs/phd/lib/python3.8/site-packages (from torch==1.7.0->torchvision) (0.18.2)\n",
      "Requirement already satisfied: dataclasses in /Users/fb46_a/opt/anaconda3/envs/phd/lib/python3.8/site-packages (from torch==1.7.0->torchvision) (0.6)\n",
      "Requirement already satisfied: typing-extensions in /Users/fb46_a/opt/anaconda3/envs/phd/lib/python3.8/site-packages (from torch==1.7.0->torchvision) (3.7.4.3)\n",
      "\u001b[33mWARNING: Error parsing requirements for jedi: [Errno 2] No such file or directory: '/Users/fb46_a/opt/anaconda3/envs/phd/lib/python3.8/site-packages/jedi-0.16.0.dist-info/METADATA'\u001b[0m\n"
     ]
    }
   ],
   "source": [
    "!pip install torchvision\n",
    "import torchvision\n",
    "from torchvision import transforms"
   ]
  },
  {
   "cell_type": "code",
   "execution_count": 4,
   "metadata": {},
   "outputs": [],
   "source": [
    "train_data_path = \"./train/\""
   ]
  },
  {
   "cell_type": "code",
   "execution_count": 5,
   "metadata": {},
   "outputs": [],
   "source": [
    "transforms = transforms.Compose([transforms.Resize(64), transforms.ToTensor(), \n",
    "                                transforms.Normalize(mean=[0.485, 0.456, 0.406], std=[0.229, 0.224, 0.225])])"
   ]
  },
  {
   "cell_type": "code",
   "execution_count": 6,
   "metadata": {},
   "outputs": [],
   "source": [
    "train_data = torchvision.datasets.ImageFolder"
   ]
  },
  {
   "cell_type": "code",
   "execution_count": null,
   "metadata": {},
   "outputs": [],
   "source": []
  }
 ],
 "metadata": {
  "kernelspec": {
   "display_name": "Python 3",
   "language": "python",
   "name": "python3"
  },
  "language_info": {
   "codemirror_mode": {
    "name": "ipython",
    "version": 3
   },
   "file_extension": ".py",
   "mimetype": "text/x-python",
   "name": "python",
   "nbconvert_exporter": "python",
   "pygments_lexer": "ipython3",
   "version": "3.8.2"
  }
 },
 "nbformat": 4,
 "nbformat_minor": 4
}
